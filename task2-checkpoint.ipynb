{
 "cells": [
  {
   "cell_type": "code",
   "execution_count": 1,
   "id": "a83d475f-0f3e-4329-95ac-3ce7891bca19",
   "metadata": {},
   "outputs": [
    {
     "name": "stdin",
     "output_type": "stream",
     "text": [
      "Enter a number:  123456789\n"
     ]
    },
    {
     "name": "stdout",
     "output_type": "stream",
     "text": [
      "45\n"
     ]
    }
   ],
   "source": [
    "def sum_of_digits(n):\n",
    "    return sum(int(digit) for digit in str(abs(n))) \n",
    "n = int(input(\"Enter a number: \"))\n",
    "print(sum_of_digits(n))"
   ]
  },
  {
   "cell_type": "code",
   "execution_count": 2,
   "id": "a35755de-f67f-4263-8c43-95fa984d5c45",
   "metadata": {},
   "outputs": [
    {
     "name": "stdin",
     "output_type": "stream",
     "text": [
      "Enter a number:  654321\n"
     ]
    },
    {
     "name": "stdout",
     "output_type": "stream",
     "text": [
      "False\n"
     ]
    }
   ],
   "source": [
    "import math\n",
    "def is_prime(n):\n",
    "    if n <= 1:\n",
    "        return False \n",
    "    if n == 2:\n",
    "        return True   \n",
    "    if n % 2 == 0:\n",
    "        return False  \n",
    "\n",
    "    for i in range(3, int(math.sqrt(n)) + 1, 2):  \n",
    "        if n % i == 0:\n",
    "            return False\n",
    "    return True\n",
    "n = int(input(\"Enter a number: \"))\n",
    "print(is_prime(n))"
   ]
  },
  {
   "cell_type": "code",
   "execution_count": 3,
   "id": "82441e0a-bd94-4976-b0b9-a6f72e58354d",
   "metadata": {},
   "outputs": [
    {
     "name": "stdin",
     "output_type": "stream",
     "text": [
      "Enter first number:  12\n",
      "Enter second number:  18\n"
     ]
    },
    {
     "name": "stdout",
     "output_type": "stream",
     "text": [
      "GCD of 12 and 18 is 6\n",
      "LCM of 12 and 18 is 36\n"
     ]
    }
   ],
   "source": [
    "import math\n",
    "def gcd_lcm(a, b):\n",
    "    gcd = math.gcd(a, b)\n",
    "    lcm = abs(a * b) // gcd  \n",
    "    return lcm, gcd\n",
    "a = int(input(\"Enter first number: \"))\n",
    "b = int(input(\"Enter second number: \"))\n",
    "lcm, gcd = gcd_lcm(a, b)\n",
    "print(f\"GCD of {a} and {b} is {gcd}\")\n",
    "print(f\"LCM of {a} and {b} is {lcm}\")\n"
   ]
  },
  {
   "cell_type": "code",
   "execution_count": 4,
   "id": "8b7e1503-dcb0-4bef-9072-36b758b47804",
   "metadata": {},
   "outputs": [
    {
     "name": "stdout",
     "output_type": "stream",
     "text": [
      "[5, 4, 3, 2, 1]\n"
     ]
    }
   ],
   "source": [
    "def reverse_list(lst):\n",
    "    for i in range(len(lst) // 2):\n",
    "        lst[i], lst[-i - 1] = lst[-i - 1], lst[i]\n",
    "    return lst\n",
    "lst = [1, 2, 3, 4, 5]\n",
    "print(reverse_list(lst))"
   ]
  },
  {
   "cell_type": "code",
   "execution_count": 5,
   "id": "cfc2f566-3eb3-4c87-a5d2-ac094e0bdaa2",
   "metadata": {},
   "outputs": [
    {
     "name": "stdout",
     "output_type": "stream",
     "text": [
      "[1, 2, 3, 5, 9]\n"
     ]
    }
   ],
   "source": [
    "def sort_list(lst):\n",
    "    for i in range(len(lst)):\n",
    "        for j in range(i + 1, len(lst)):\n",
    "            if lst[i] > lst[j]:\n",
    "                lst[i], lst[j] = lst[j], lst[i]\n",
    "    return lst\n",
    "lst = [5, 2, 9, 1, 3]\n",
    "print(sort_list(lst))\n"
   ]
  },
  {
   "cell_type": "code",
   "execution_count": 6,
   "id": "e0538b2d-ed96-48e9-827f-1f1699b7c22b",
   "metadata": {},
   "outputs": [
    {
     "name": "stdout",
     "output_type": "stream",
     "text": [
      "Original list: [1, 2, 2, 3, 4, 4, 5]\n",
      "List after removing duplicates: [1, 2, 3, 4, 5]\n"
     ]
    }
   ],
   "source": [
    "def remove_duplicates(input_list):\n",
    "    return list(set(input_list))\n",
    "if __name__ == \"__main__\":\n",
    "    sample_list = [1, 2, 2, 3, 4, 4, 5]\n",
    "    result = remove_duplicates(sample_list)\n",
    "    print(\"Original list:\", sample_list)\n",
    "    print(\"List after removing duplicates:\", result)"
   ]
  },
  {
   "cell_type": "code",
   "execution_count": 7,
   "id": "ca17f046-beec-4731-95a9-59408699a2a8",
   "metadata": {},
   "outputs": [
    {
     "name": "stdout",
     "output_type": "stream",
     "text": [
      "String: 'Hello, World!'\n",
      "Length: 13\n"
     ]
    }
   ],
   "source": [
    "def string_length(input_string):\n",
    "    \"\"\"Calculate the length of a string without using len().\"\"\"\n",
    "    count = 0\n",
    "    for char in input_string:\n",
    "        count += 1\n",
    "    return count\n",
    "if __name__ == \"__main__\":\n",
    "    test_string = \"Hello, World!\"\n",
    "    result = string_length(test_string)\n",
    "    print(f\"String: '{test_string}'\")\n",
    "    print(f\"Length: {result}\")"
   ]
  },
  {
   "cell_type": "code",
   "execution_count": 8,
   "id": "b08eba55-dd03-461e-a238-0b5f5a309cca",
   "metadata": {},
   "outputs": [
    {
     "name": "stdout",
     "output_type": "stream",
     "text": [
      "String: 'main flow services and technologies'\n",
      "Vowels: 12, Consonants: 19\n"
     ]
    }
   ],
   "source": [
    "def count_vowels_consonants(input_string):\n",
    "    \"\"\"Count vowels and consonants in a string.\"\"\"\n",
    "    vowels = {'a', 'e', 'i', 'o', 'u'}\n",
    "    vowel_count = 0\n",
    "    consonant_count = 0\n",
    "    \n",
    "    for char in input_string.lower():\n",
    "        if char in vowels:\n",
    "            vowel_count += 1\n",
    "        elif char.isalpha():  \n",
    "            consonant_count += 1\n",
    "    return vowel_count, consonant_count\n",
    "if __name__ == \"__main__\":\n",
    "    test_string = \"main flow services and technologies\"\n",
    "    vowels, consonants = count_vowels_consonants(test_string)\n",
    "    print(f\"String: '{test_string}'\")\n",
    "    print(f\"Vowels: {vowels}, Consonants: {consonants}\")\n"
   ]
  },
  {
   "cell_type": "code",
   "execution_count": 11,
   "id": "bd7f6c60-1a23-4c5f-8e85-a43d916ffb00",
   "metadata": {},
   "outputs": [
    {
     "name": "stdout",
     "output_type": "stream",
     "text": [
      "Generated Maze:\n",
      "###############\n",
      "          #   #\n",
      "# ####### # # #\n",
      "#     #   # # #\n",
      "##### ##### # #\n",
      "#   # #     # #\n",
      "# # # # ##### #\n",
      "# # #   #   # #\n",
      "### # ### # # #\n",
      "#   # #   #   #\n",
      "# ##### ##### #\n",
      "#     #   #   #\n",
      "##### ### # ###\n",
      "#         #    \n",
      "###############\n",
      "\n",
      "Solved Maze:\n",
      "###############\n",
      "**        #***#\n",
      "#*####### #*#*#\n",
      "#*****#   #*#*#\n",
      "#####*#####*#*#\n",
      "#   #*#*****#*#\n",
      "# # #*#*#####*#\n",
      "# # #***#   #*#\n",
      "### # ### # #*#\n",
      "#   # #   #  *#\n",
      "# ##### #####*#\n",
      "#     #   #***#\n",
      "##### ### #*###\n",
      "#         #****\n",
      "###############\n"
     ]
    }
   ],
   "source": [
    "import random\n",
    "from collections import deque\n",
    "\n",
    "class Maze:\n",
    "    def __init__(self, width=21, height=21):\n",
    "        self.width = width if width % 2 else width + 1\n",
    "        self.height = height if height % 2 else height + 1\n",
    "        self.grid = [[1 for _ in range(self.width)] for _ in range(self.height)]\n",
    "        self.solution = []\n",
    "\n",
    "    def generate(self):\n",
    "        stack = [(random.randrange(1, self.height, 2), random.randrange(1, self.width, 2))]\n",
    "        while stack:\n",
    "            x, y = stack[-1]\n",
    "            self.grid[x][y] = 0\n",
    "            neighbors = []\n",
    "            for dx, dy in [(0, 2), (2, 0), (0, -2), (-2, 0)]:\n",
    "                nx, ny = x + dx, y + dy\n",
    "                if 0 < nx < self.height and 0 < ny < self.width and self.grid[nx][ny] == 1:\n",
    "                    neighbors.append((nx, ny))\n",
    "            if neighbors:\n",
    "                nx, ny = random.choice(neighbors)\n",
    "                self.grid[x + (nx - x)//2][y + (ny - y)//2] = 0\n",
    "                stack.append((nx, ny))\n",
    "            else:\n",
    "                stack.pop()\n",
    "        self.grid[1][0] = 0\n",
    "        self.grid[self.height-2][self.width-1] = 0\n",
    "\n",
    "    def solve(self):\n",
    "        start = (1, 0)\n",
    "        end = (self.height-2, self.width-1)\n",
    "        queue = deque([(start, [start])])\n",
    "        visited = set([start])\n",
    "        while queue:\n",
    "            (x, y), path = queue.popleft()\n",
    "            if (x, y) == end:\n",
    "                self.solution = path\n",
    "                return True\n",
    "            for dx, dy in [(0, 1), (1, 0), (0, -1), (-1, 0)]:\n",
    "                nx, ny = x + dx, y + dy\n",
    "                if 0 <= nx < self.height and 0 <= ny < self.width and self.grid[nx][ny] == 0 and (nx, ny) not in visited:\n",
    "                    visited.add((nx, ny))\n",
    "                    queue.append(((nx, ny), path + [(nx, ny)]))\n",
    "        return False\n",
    "\n",
    "    def display(self, show_solution=False):\n",
    "        for i in range(self.height):\n",
    "            for j in range(self.width):\n",
    "                if show_solution and (i, j) in self.solution:\n",
    "                    print('*', end='')\n",
    "                elif self.grid[i][j] == 1:\n",
    "                    print('#', end='')\n",
    "                else:\n",
    "                    print(' ', end='')\n",
    "            print()\n",
    "\n",
    "if __name__ == \"__main__\":\n",
    "    maze = Maze(15, 15)\n",
    "    maze.generate()\n",
    "    print(\"Generated Maze:\")\n",
    "    maze.display()\n",
    "\n",
    "    if maze.solve():\n",
    "        print(\"\\nSolved Maze:\")\n",
    "        maze.display(show_solution=True)\n",
    "    else:\n",
    "        print(\"\\nNo solution exists!\")\n",
    "\n"
   ]
  },
  {
   "cell_type": "code",
   "execution_count": null,
   "id": "28857752-8998-4a1f-b37d-05e4a9dff1ab",
   "metadata": {},
   "outputs": [],
   "source": []
  }
 ],
 "metadata": {
  "kernelspec": {
   "display_name": "Python 3 (ipykernel)",
   "language": "python",
   "name": "python3"
  },
  "language_info": {
   "codemirror_mode": {
    "name": "ipython",
    "version": 3
   },
   "file_extension": ".py",
   "mimetype": "text/x-python",
   "name": "python",
   "nbconvert_exporter": "python",
   "pygments_lexer": "ipython3",
   "version": "3.13.3"
  }
 },
 "nbformat": 4,
 "nbformat_minor": 5
}
