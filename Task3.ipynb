{
 "cells": [
  {
   "cell_type": "code",
   "execution_count": 4,
   "id": "d1f5e961-8c28-40c5-9d0a-1bc9600dab24",
   "metadata": {},
   "outputs": [
    {
     "name": "stdout",
     "output_type": "stream",
     "text": [
      "5 x 1 = 5\n",
      "5 x 2 = 10\n",
      "5 x 3 = 15\n",
      "5 x 4 = 20\n",
      "5 x 5 = 25\n",
      "5 x 6 = 30\n",
      "5 x 7 = 35\n",
      "5 x 8 = 40\n",
      "5 x 9 = 45\n",
      "5 x 10 = 50\n"
     ]
    }
   ],
   "source": [
    "def print_table(m):\n",
    " for i in range (1,11):\n",
    "     print(f\"{m} x {i} = {m * i}\")\n",
    "\n",
    "print_table(5)"
   ]
  },
  {
   "cell_type": "code",
   "execution_count": 5,
   "id": "64c09d09-b8f6-4b3c-92c5-1c1ed3239419",
   "metadata": {},
   "outputs": [
    {
     "name": "stdout",
     "output_type": "stream",
     "text": [
      "Swapped : a = 7, b = 3\n"
     ]
    }
   ],
   "source": [
    "def swap_numbers(a,b):\n",
    "    a = a + b\n",
    "    b = a - b\n",
    "    a = a - b\n",
    "    return a, b\n",
    "\n",
    "a, b = 3, 7\n",
    "a, b = swap_numbers(a,b)\n",
    "print(f\"Swapped : a = {a}, b = {b}\")"
   ]
  },
  {
   "cell_type": "code",
   "execution_count": 6,
   "id": "1d854e52-2c7d-48cb-a3f1-5de47e5dbcd0",
   "metadata": {},
   "outputs": [
    {
     "name": "stdout",
     "output_type": "stream",
     "text": [
      "True\n"
     ]
    }
   ],
   "source": [
    "def is_substring(s1,s2):\n",
    "    return s2 in s1\n",
    "\n",
    "s1 = \"main flow tech\"\n",
    "s2 = \"flow\"\n",
    "print(is_substring(s1,s2))"
   ]
  },
  {
   "cell_type": "code",
   "execution_count": 7,
   "id": "759870c9-c4c6-46ba-9482-0c77499568d0",
   "metadata": {},
   "outputs": [
    {
     "name": "stdout",
     "output_type": "stream",
     "text": [
      "1010\n"
     ]
    }
   ],
   "source": [
    "def decimal_to_binary(n):\n",
    "    return bin(n)[2:]\n",
    "\n",
    "print(decimal_to_binary(10))"
   ]
  },
  {
   "cell_type": "code",
   "execution_count": 8,
   "id": "73a2c3a3-928e-4042-b35d-8167662dfc7d",
   "metadata": {},
   "outputs": [
    {
     "name": "stdout",
     "output_type": "stream",
     "text": [
      "45\n"
     ]
    }
   ],
   "source": [
    "def second_largest(lst):\n",
    "    unique = list(set(lst))\n",
    "    unique.sort()\n",
    "    return unique[-2] if len(unique) >= 2 else None\n",
    "\n",
    "lst = [10,20,4,45,99]\n",
    "print(second_largest(lst))"
   ]
  },
  {
   "cell_type": "code",
   "execution_count": 9,
   "id": "353136c9-f37e-48bc-b179-fea6ba5cd308",
   "metadata": {},
   "outputs": [
    {
     "name": "stdout",
     "output_type": "stream",
     "text": [
      "True\n"
     ]
    }
   ],
   "source": [
    "def is_anagram(s1,s2):\n",
    "    return sorted(s1.lower()) == sorted(s2.lower())\n",
    "\n",
    "s1 = \"listen\"\n",
    "s2 = \"silent\"\n",
    "print(is_anagram(s1,s2))"
   ]
  },
  {
   "cell_type": "code",
   "execution_count": 10,
   "id": "3fa135e1-399f-4989-a06b-d2f81fbc18fd",
   "metadata": {},
   "outputs": [
    {
     "name": "stdout",
     "output_type": "stream",
     "text": [
      "[[19, 22], [43, 50]]\n"
     ]
    }
   ],
   "source": [
    "def matrix_multiply(A, B):\n",
    "    return [\n",
    "        [\n",
    "            sum(A[i][k] * B[k][j] for k in range(len(B)))\n",
    "            for j in range(len(B[0]))\n",
    "        ]\n",
    "        for i in range(len(A))\n",
    "    ]\n",
    "\n",
    "A = [[1,2], [3,4]]\n",
    "B = [[5,6], [7,8]]\n",
    "result = matrix_multiply(A,B)\n",
    "print(result)"
   ]
  },
  {
   "cell_type": "code",
   "execution_count": 11,
   "id": "d29647fc-980b-4cc4-af27-149b061cece2",
   "metadata": {},
   "outputs": [
    {
     "name": "stdout",
     "output_type": "stream",
     "text": [
      "[[6, 8], [10, 12]]\n"
     ]
    }
   ],
   "source": [
    "def matrix_add(A, B):\n",
    "    return [[A[i][j] + B[i][j] for j in range(len(A[0]))] for i in range(len(A))]\n",
    "\n",
    "A = [[1, 2], [3, 4]]\n",
    "B = [[5, 6], [7, 8]]\n",
    "result = matrix_add(A, B)\n",
    "print(result)"
   ]
  },
  {
   "cell_type": "code",
   "execution_count": 15,
   "id": "7d73dfe5-53aa-42ee-8182-8535e71deb95",
   "metadata": {},
   "outputs": [],
   "source": [
    "def print_board(board):\n",
    "    for row in board:\n",
    "        print(\" | \".join(row))\n",
    "        print(\"-\" * 9)\n",
    "\n",
    "def check_winner(board):\n",
    "    \n",
    "    lines = [\n",
    "        [board[0][0], board[0][1], board[0][2]],\n",
    "        [board[1][0], board[1][1], board[1][2]],\n",
    "        [board[2][0], board[2][1], board[2][2]],\n",
    "        [board[0][0], board[1][0], board[2][0]],\n",
    "        [board[0][1], board[1][1], board[2][1]],\n",
    "        [board[0][2], board[1][2], board[2][2]],\n",
    "        [board[0][0], board[1][1], board[2][2]],\n",
    "        [board[0][2], board[1][1], board[2][0]],\n",
    "    ]\n",
    "    \n",
    "    for line in lines:\n",
    "        if len(set(line)) == 1 and line[0] != \" \":\n",
    "            return line[0]\n",
    "    return None\n",
    "\n",
    "def minimax(board, depth, is_maximizing):\n",
    "    winner = check_winner(board)\n",
    "    if winner == \"X\":\n",
    "        return -10 + depth\n",
    "    elif winner == \"O\":\n",
    "        return 10 - depth\n",
    "    elif \" \" not in [cell for row in board for cell in row]:\n",
    "        return 0\n",
    "\n",
    "    if is_maximizing:\n",
    "        best_score = -float(\"inf\")\n",
    "        for i in range(3):\n",
    "            for j in range(3):\n",
    "                if board[i][j] == \" \":\n",
    "                    board[i][j] = \"O\"\n",
    "                    score = minimax(board, depth + 1, False)\n",
    "                    board[i][j] = \" \"\n",
    "                    best_score = max(score, best_score)\n",
    "        return best_score\n",
    "    else:\n",
    "        best_score = float(\"inf\")\n",
    "        for i in range(3):\n",
    "            for j in range(3):\n",
    "                if board[i][j] == \" \":\n",
    "                    board[i][j] = \"X\"\n",
    "                    score = minimax(board, depth + 1, True)\n",
    "                    board[i][j] = \" \"\n",
    "                    best_score = min(score, best_score)\n",
    "        return best_score\n",
    "\n",
    "def ai_move(board):\n",
    "    best_score = -float(\"inf\")\n",
    "    move = (-1, -1)\n",
    "    for i in range(3):\n",
    "        for j in range(3):\n",
    "            if board[i][j] == \" \":\n",
    "                board[i][j] = \"O\"  \n",
    "                score = minimax(board, 0, False)\n",
    "                board[i][j] = \" \"\n",
    "                if score > best_score:\n",
    "                    best_score = score\n",
    "                    move = (i, j)\n",
    "    return move\n",
    "\n",
    "def play_game():\n",
    "    board = [[\" \" for _ in range(3)] for _ in range(3)]\n",
    "    current_player = \"X\"  \n",
    "    while True:\n",
    "        print_board(board)\n",
    "        if current_player == \"X\":\n",
    "            row, col = map(int, input(\"Enter row and column (0-2): \").split())\n",
    "        else:\n",
    "            row, col = ai_move(board)\n",
    "            print(f\"AI plays at ({row}, {col})\")\n",
    "        \n",
    "        if board[row][col] == \" \":\n",
    "            board[row][col] = current_player\n",
    "            winner = check_winner(board)\n",
    "            if winner:\n",
    "                print_board(board)\n",
    "                print(f\"{winner} wins!\")\n",
    "                break\n",
    "            elif \" \" not in [cell for row in board for cell in row]:\n",
    "                print_board(board)\n",
    "                print(\"Draw!\")\n",
    "                break\n",
    "            current_player = \"O\" if current_player == \"X\" else \"X\"  \n",
    "        else:\n",
    "            print(\"Invalid move!\")"
   ]
  },
  {
   "cell_type": "code",
   "execution_count": 17,
   "id": "e6a01cf0-9d9e-4b98-8428-0d611e3da632",
   "metadata": {},
   "outputs": [
    {
     "name": "stdout",
     "output_type": "stream",
     "text": [
      "  |   |  \n",
      "---------\n",
      "  |   |  \n",
      "---------\n",
      "  |   |  \n",
      "---------\n"
     ]
    },
    {
     "name": "stdin",
     "output_type": "stream",
     "text": [
      "Enter row and column (0-2):  2 0\n"
     ]
    },
    {
     "name": "stdout",
     "output_type": "stream",
     "text": [
      "  |   |  \n",
      "---------\n",
      "  |   |  \n",
      "---------\n",
      "X |   |  \n",
      "---------\n",
      "AI plays at (1, 1)\n",
      "  |   |  \n",
      "---------\n",
      "  | O |  \n",
      "---------\n",
      "X |   |  \n",
      "---------\n"
     ]
    },
    {
     "name": "stdin",
     "output_type": "stream",
     "text": [
      "Enter row and column (0-2):  2 1\n"
     ]
    },
    {
     "name": "stdout",
     "output_type": "stream",
     "text": [
      "  |   |  \n",
      "---------\n",
      "  | O |  \n",
      "---------\n",
      "X | X |  \n",
      "---------\n",
      "AI plays at (2, 2)\n",
      "  |   |  \n",
      "---------\n",
      "  | O |  \n",
      "---------\n",
      "X | X | O\n",
      "---------\n"
     ]
    },
    {
     "name": "stdin",
     "output_type": "stream",
     "text": [
      "Enter row and column (0-2):  0 0\n"
     ]
    },
    {
     "name": "stdout",
     "output_type": "stream",
     "text": [
      "X |   |  \n",
      "---------\n",
      "  | O |  \n",
      "---------\n",
      "X | X | O\n",
      "---------\n",
      "AI plays at (1, 0)\n",
      "X |   |  \n",
      "---------\n",
      "O | O |  \n",
      "---------\n",
      "X | X | O\n",
      "---------\n"
     ]
    },
    {
     "name": "stdin",
     "output_type": "stream",
     "text": [
      "Enter row and column (0-2):  1 2\n"
     ]
    },
    {
     "name": "stdout",
     "output_type": "stream",
     "text": [
      "X |   |  \n",
      "---------\n",
      "O | O | X\n",
      "---------\n",
      "X | X | O\n",
      "---------\n",
      "AI plays at (0, 1)\n",
      "X | O |  \n",
      "---------\n",
      "O | O | X\n",
      "---------\n",
      "X | X | O\n",
      "---------\n"
     ]
    },
    {
     "name": "stdin",
     "output_type": "stream",
     "text": [
      "Enter row and column (0-2):  0 2\n"
     ]
    },
    {
     "name": "stdout",
     "output_type": "stream",
     "text": [
      "X | O | X\n",
      "---------\n",
      "O | O | X\n",
      "---------\n",
      "X | X | O\n",
      "---------\n",
      "Draw!\n"
     ]
    }
   ],
   "source": [
    "play_game()\n"
   ]
  },
  {
   "cell_type": "code",
   "execution_count": null,
   "id": "eb975339-6dc1-4309-9ca2-ef5d59e9a8af",
   "metadata": {},
   "outputs": [],
   "source": []
  }
 ],
 "metadata": {
  "kernelspec": {
   "display_name": "Python 3 (ipykernel)",
   "language": "python",
   "name": "python3"
  },
  "language_info": {
   "codemirror_mode": {
    "name": "ipython",
    "version": 3
   },
   "file_extension": ".py",
   "mimetype": "text/x-python",
   "name": "python",
   "nbconvert_exporter": "python",
   "pygments_lexer": "ipython3",
   "version": "3.13.3"
  }
 },
 "nbformat": 4,
 "nbformat_minor": 5
}
